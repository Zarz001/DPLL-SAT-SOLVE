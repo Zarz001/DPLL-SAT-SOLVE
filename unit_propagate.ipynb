{
 "cells": [
  {
   "cell_type": "code",
   "execution_count": 1,
   "metadata": {},
   "outputs": [
    {
     "name": "stdout",
     "output_type": "stream",
     "text": [
      "[]\n"
     ]
    }
   ],
   "source": [
    "def single_digit_check(clause_set):\n",
    "    for f in range(len(clause_set)):\n",
    "        if len(clause_set[f]) == 1:\n",
    "            return True\n",
    "    return False\n",
    "\n",
    "def unit_propagate(clause_set):\n",
    "    if len(clause_set) == 0:\n",
    "        return clause_set\n",
    "    yes = single_digit_check(clause_set)\n",
    "    while yes == True:\n",
    "        i = 0\n",
    "        while i < len(clause_set):\n",
    "            if len(clause_set[i]) == 1:\n",
    "                temp = clause_set[i][0]\n",
    "                found = True\n",
    "                while found == True:\n",
    "                    found = False\n",
    "                    same_clauseset = clause_set.copy()\n",
    "                    for x in range(len(same_clauseset)):\n",
    "                        if len( same_clauseset[x]) == 0:\n",
    "                            continue\n",
    "                        if temp in  same_clauseset[x]:\n",
    "                            clause =  same_clauseset[x]\n",
    "                            clause_set.remove(clause)\n",
    "                            found = True\n",
    "                        elif -temp in  same_clauseset[x]:\n",
    "                            clause =  same_clauseset[x]\n",
    "                            clause.remove(-temp)\n",
    "                            found = True\n",
    "                        elif (len( same_clauseset[x]) == 1) and (temp == - same_clauseset[x][0]):\n",
    "                            return []\n",
    "            else:\n",
    "                i += 1\n",
    "        yes = single_digit_check(clause_set)\n",
    "    return clause_set\n",
    "print(unit_propagate([[-1, -2,3,4], [-1], [-1, 2],[-1,2]]))\n"
   ]
  }
 ],
 "metadata": {
  "kernelspec": {
   "display_name": "Python 3",
   "language": "python",
   "name": "python3"
  },
  "language_info": {
   "codemirror_mode": {
    "name": "ipython",
    "version": 3
   },
   "file_extension": ".py",
   "mimetype": "text/x-python",
   "name": "python",
   "nbconvert_exporter": "python",
   "pygments_lexer": "ipython3",
   "version": "3.9.6"
  },
  "orig_nbformat": 4,
  "vscode": {
   "interpreter": {
    "hash": "31f2aee4e71d21fbe5cf8b01ff0e069b9275f58929596ceb00d14d90e3e16cd6"
   }
  }
 },
 "nbformat": 4,
 "nbformat_minor": 2
}
