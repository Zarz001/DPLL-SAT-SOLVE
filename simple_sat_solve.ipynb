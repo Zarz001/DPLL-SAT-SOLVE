{
 "cells": [
  {
   "cell_type": "code",
   "execution_count": 3,
   "metadata": {},
   "outputs": [
    {
     "name": "stdout",
     "output_type": "stream",
     "text": [
      "[1, 2, -3, -4, 5, 6, -7, -8, -9, -10, 11, 12, -13, -14, 15, 16]\n",
      "[1, 2, 3]\n",
      "[1, -2, 3]\n"
     ]
    }
   ],
   "source": [
    "## found itertools https://docs.python.org/3/library/itertools.html\n",
    "import itertools\n",
    "def simple_sat_solve(clause_set):\n",
    "    value = []\n",
    "    avalue = []\n",
    "    values = []\n",
    "    for i in clause_set:\n",
    "        for x in i:\n",
    "            value.append(x)\n",
    "    #print(value)\n",
    "    for x in value:\n",
    "        avalue.append(abs(x))\n",
    "    #print(avalue)\n",
    "    y = max(avalue)    \n",
    "    for c in range(1, y+1):\n",
    "        values.append([True, False])\n",
    "    for loop in itertools.product(*values):\n",
    "        clause_set1 = []\n",
    "        for i in clause_set:\n",
    "            clause_set2 = []\n",
    "            for x in i:\n",
    "                if x < 0:\n",
    "                    clause_set2.append(not loop[abs(x) - 1])\n",
    "                else:\n",
    "                    clause_set2.append(loop[x - 1])\n",
    "            clause_set1.append(any(clause_set2))\n",
    "        if all(clause_set1):\n",
    "            final = []\n",
    "            for i, val in enumerate(loop):\n",
    "                if val:\n",
    "                    final.append(i + 1)\n",
    "                else:\n",
    "                    final.append(-(i + 1))\n",
    "            return final\n",
    "    return None\n",
    "print(simple_sat_solve([[-1, -9], [-2, -10], [-3, -11], [-4, -12], [-5, -13], [-6, -14], [-7, -15], [-8, -16], [1, 9], [2, 10], [3, 11], [4, 12], [5, 13], [6, 14], [7, 15], [8, 16], [-1, -2, -3], [-9, -10, -11], [-1, -3, -5], [-9, -11, -13], [-1, -4, -7], [-9, -12, -15], [-2, -3, -4], [-10, -11, -12], [-2, -4, -6], [-10, -12, -14], [-2, -5, -8], [-10, -13, -16], [-3, -4, -5], [-11, -12, -13], [-3, -5, -7], [-11, -13, -15], [-4, -5, -6], [-12, -13, -14], [-4, -6, -8], [-12, -14, -16], [-5, -6, -7], [-13, -14, -15], [-6, -7, -8], [-14, -15, -16]])) \n",
    "print(simple_sat_solve([[1, 2], [-2, 3], [1, -3]])) \n",
    "print(simple_sat_solve([[-1, -2, -3], [1, 2, 3], [-1, -2, 3], [1, 2, -3]])) \n",
    "\n",
    "\n"
   ]
  }
 ],
 "metadata": {
  "kernelspec": {
   "display_name": "Python 3",
   "language": "python",
   "name": "python3"
  },
  "language_info": {
   "codemirror_mode": {
    "name": "ipython",
    "version": 3
   },
   "file_extension": ".py",
   "mimetype": "text/x-python",
   "name": "python",
   "nbconvert_exporter": "python",
   "pygments_lexer": "ipython3",
   "version": "3.9.6"
  },
  "orig_nbformat": 4,
  "vscode": {
   "interpreter": {
    "hash": "31f2aee4e71d21fbe5cf8b01ff0e069b9275f58929596ceb00d14d90e3e16cd6"
   }
  }
 },
 "nbformat": 4,
 "nbformat_minor": 2
}
