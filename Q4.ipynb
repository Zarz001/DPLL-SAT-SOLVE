{
 "cells": [
  {
   "cell_type": "code",
   "execution_count": 3,
   "metadata": {},
   "outputs": [
    {
     "data": {
      "text/plain": [
       "[[1, -2], [1, 2], [-1, -2], [-1, 2]]"
      ]
     },
     "execution_count": 3,
     "metadata": {},
     "output_type": "execute_result"
    }
   ],
   "source": [
    "def load_dimacs(filename):\n",
    "    clause_set = []\n",
    "    new_sett = []\n",
    "    \n",
    "    with open(filename, \"r\") as source:\n",
    "        for line in source:\n",
    "            if line[0] == \"c\":\n",
    "                continue\n",
    "            if line[0] == \"p\":\n",
    "                values = line.split()\n",
    "                _, _, a, b = values\n",
    "                a, b = int(a), int(b)\n",
    "            else:\n",
    "                for x in line.split():\n",
    "                    if x != \"0\":\n",
    "                        new_sett.append(int(x))\n",
    "                    else:\n",
    "                        clause_set.append(new_sett)\n",
    "                        new_sett = []\n",
    "    \n",
    "    return clause_set\n",
    "                  \n",
    "\n",
    "        \n"
   ]
  }
 ],
 "metadata": {
  "kernelspec": {
   "display_name": "Python 3",
   "language": "python",
   "name": "python3"
  },
  "language_info": {
   "codemirror_mode": {
    "name": "ipython",
    "version": 3
   },
   "file_extension": ".py",
   "mimetype": "text/x-python",
   "name": "python",
   "nbconvert_exporter": "python",
   "pygments_lexer": "ipython3",
   "version": "3.9.6"
  },
  "orig_nbformat": 4,
  "vscode": {
   "interpreter": {
    "hash": "31f2aee4e71d21fbe5cf8b01ff0e069b9275f58929596ceb00d14d90e3e16cd6"
   }
  }
 },
 "nbformat": 4,
 "nbformat_minor": 2
}
