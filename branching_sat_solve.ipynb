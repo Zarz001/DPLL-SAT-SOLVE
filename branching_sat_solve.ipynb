{
 "cells": [
  {
   "cell_type": "code",
   "execution_count": 3,
   "metadata": {},
   "outputs": [
    {
     "name": "stdout",
     "output_type": "stream",
     "text": [
      "None\n",
      "[-1, 2]\n",
      "[-1, 9, -2, 10, 3, -11, 4, -12, -5, 13, -6, 14, 7, -15, 8, -16]\n",
      "[-2]\n"
     ]
    }
   ],
   "source": [
    "##https://docs.python.org/3/library/copy.html\n",
    "import copy\n",
    "def check(clause_set, partial_assignment):\n",
    "    for clause in clause_set:\n",
    "        sat = False\n",
    "        for l in clause:\n",
    "            if l in partial_assignment:\n",
    "                sat = True\n",
    "                break\n",
    "            elif -l in partial_assignment:\n",
    "                continue\n",
    "            else:\n",
    "                sat = False\n",
    "                break\n",
    "        if not sat:\n",
    "            return False\n",
    "    return True\n",
    "\n",
    "def branching_sat_solve(clause_set, partial_assignment):\n",
    "    if check(clause_set, partial_assignment):\n",
    "        return partial_assignment\n",
    "    unusedl = None\n",
    "    for clause in clause_set:\n",
    "        for l in clause:\n",
    "            if l not in partial_assignment and -l not in partial_assignment:\n",
    "                unusedl = l\n",
    "                break\n",
    "        if unusedl is not None:\n",
    "            break\n",
    "    if unusedl is None:\n",
    "        if check(clause_set, partial_assignment):\n",
    "            return partial_assignment\n",
    "        else:\n",
    "            return None\n",
    "    true_a = copy.deepcopy(partial_assignment)\n",
    "    true_a.append(unusedl)\n",
    "    sol = branching_sat_solve(clause_set, true_a)\n",
    "    if sol is not None:\n",
    "        return sol\n",
    "    false_a = copy.deepcopy(partial_assignment)\n",
    "    false_a.append(-unusedl)\n",
    "    sol = branching_sat_solve(clause_set, false_a)\n",
    "    if sol is not None:\n",
    "        return sol\n",
    "    return None\n",
    "\n",
    "print(branching_sat_solve([[1, -2], [1, 2], [-1, -2],[-1,2]],[]))\n",
    "print(branching_sat_solve([[-1, -2, -3], [1, 2, 3], [-1, -2, 3], [1, 2, -3]],[]))\n",
    "print(branching_sat_solve([[-1, -9], [-2, -10], [-3, -11], [-4, -12], [-5, -13], [-6, -14], [-7, -15], [-8, -16], [1, 9], [2, 10], [3, 11], [4, 12], [5, 13], [6, 14], [7, 15], [8, 16], [-1, -2, -3], [-9, -10, -11], [-1, -3, -5], [-9, -11, -13], [-1, -4, -7], [-9, -12, -15], [-2, -3, -4], [-10, -11, -12], [-2, -4, -6], [-10, -12, -14], [-2, -5, -8], [-10, -13, -16], [-3, -4, -5], [-11, -12, -13], [-3, -5, -7], [-11, -13, -15], [-4, -5, -6], [-12, -13, -14], [-4, -6, -8], [-12, -14, -16], [-5, -6, -7], [-13, -14, -15], [-6, -7, -8], [-14, -15, -16]],[])) \n",
    "print(branching_sat_solve([[-2,3],[-2,-3]],[]))"
   ]
  }
 ],
 "metadata": {
  "kernelspec": {
   "display_name": "Python 3",
   "language": "python",
   "name": "python3"
  },
  "language_info": {
   "codemirror_mode": {
    "name": "ipython",
    "version": 3
   },
   "file_extension": ".py",
   "mimetype": "text/x-python",
   "name": "python",
   "nbconvert_exporter": "python",
   "pygments_lexer": "ipython3",
   "version": "3.9.6"
  },
  "orig_nbformat": 4
 },
 "nbformat": 4,
 "nbformat_minor": 2
}
